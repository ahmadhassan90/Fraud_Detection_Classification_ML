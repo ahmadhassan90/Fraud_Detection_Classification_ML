{
 "cells": [
  {
   "cell_type": "markdown",
   "metadata": {
    "execution": {
     "iopub.execute_input": "2025-03-28T18:08:09.686918Z",
     "iopub.status.busy": "2025-03-28T18:08:09.686641Z",
     "iopub.status.idle": "2025-03-28T18:08:09.690277Z",
     "shell.execute_reply": "2025-03-28T18:08:09.689471Z",
     "shell.execute_reply.started": "2025-03-28T18:08:09.686896Z"
    }
   },
   "source": [
    "**Load the Dataset and Explore**"
   ]
  },
  {
   "cell_type": "code",
   "execution_count": 1,
   "metadata": {
    "_cell_guid": "b1076dfc-b9ad-4769-8c92-a6c4dae69d19",
    "_uuid": "8f2839f25d086af736a60e9eeb907d3b93b6e0e5",
    "execution": {
     "iopub.execute_input": "2025-03-29T18:06:33.770151Z",
     "iopub.status.busy": "2025-03-29T18:06:33.769878Z",
     "iopub.status.idle": "2025-03-29T18:06:43.928219Z",
     "shell.execute_reply": "2025-03-29T18:06:43.927509Z",
     "shell.execute_reply.started": "2025-03-29T18:06:33.770129Z"
    },
    "trusted": true
   },
   "outputs": [
    {
     "data": {
      "text/html": [
       "<div>\n",
       "<style scoped>\n",
       "    .dataframe tbody tr th:only-of-type {\n",
       "        vertical-align: middle;\n",
       "    }\n",
       "\n",
       "    .dataframe tbody tr th {\n",
       "        vertical-align: top;\n",
       "    }\n",
       "\n",
       "    .dataframe thead th {\n",
       "        text-align: right;\n",
       "    }\n",
       "</style>\n",
       "<table border=\"1\" class=\"dataframe\">\n",
       "  <thead>\n",
       "    <tr style=\"text-align: right;\">\n",
       "      <th></th>\n",
       "      <th>step</th>\n",
       "      <th>transactionType</th>\n",
       "      <th>amount</th>\n",
       "      <th>initiator</th>\n",
       "      <th>oldBalInitiator</th>\n",
       "      <th>newBalInitiator</th>\n",
       "      <th>recipient</th>\n",
       "      <th>oldBalRecipient</th>\n",
       "      <th>newBalRecipient</th>\n",
       "      <th>isFraud</th>\n",
       "    </tr>\n",
       "  </thead>\n",
       "  <tbody>\n",
       "    <tr>\n",
       "      <th>0</th>\n",
       "      <td>0</td>\n",
       "      <td>PAYMENT</td>\n",
       "      <td>579.16</td>\n",
       "      <td>4018807983755588</td>\n",
       "      <td>29.32</td>\n",
       "      <td>29.32</td>\n",
       "      <td>30-0000345</td>\n",
       "      <td>0.00</td>\n",
       "      <td>0.00</td>\n",
       "      <td>0</td>\n",
       "    </tr>\n",
       "    <tr>\n",
       "      <th>1</th>\n",
       "      <td>0</td>\n",
       "      <td>TRANSFER</td>\n",
       "      <td>39.03</td>\n",
       "      <td>4610593854752035</td>\n",
       "      <td>39.03</td>\n",
       "      <td>0.00</td>\n",
       "      <td>4944921135715488</td>\n",
       "      <td>55.94</td>\n",
       "      <td>94.98</td>\n",
       "      <td>1</td>\n",
       "    </tr>\n",
       "    <tr>\n",
       "      <th>2</th>\n",
       "      <td>0</td>\n",
       "      <td>TRANSFER</td>\n",
       "      <td>21.78</td>\n",
       "      <td>4840578447365454</td>\n",
       "      <td>21.78</td>\n",
       "      <td>0.00</td>\n",
       "      <td>4305579785620656</td>\n",
       "      <td>58.09</td>\n",
       "      <td>79.88</td>\n",
       "      <td>1</td>\n",
       "    </tr>\n",
       "    <tr>\n",
       "      <th>3</th>\n",
       "      <td>0</td>\n",
       "      <td>PAYMENT</td>\n",
       "      <td>570.22</td>\n",
       "      <td>4958066799829630</td>\n",
       "      <td>5.29</td>\n",
       "      <td>5.29</td>\n",
       "      <td>00-0000388</td>\n",
       "      <td>0.00</td>\n",
       "      <td>0.00</td>\n",
       "      <td>0</td>\n",
       "    </tr>\n",
       "    <tr>\n",
       "      <th>4</th>\n",
       "      <td>0</td>\n",
       "      <td>PAYMENT</td>\n",
       "      <td>574.80</td>\n",
       "      <td>4149196095918843</td>\n",
       "      <td>82.63</td>\n",
       "      <td>82.63</td>\n",
       "      <td>80-0005320</td>\n",
       "      <td>0.00</td>\n",
       "      <td>0.00</td>\n",
       "      <td>0</td>\n",
       "    </tr>\n",
       "  </tbody>\n",
       "</table>\n",
       "</div>"
      ],
      "text/plain": [
       "   step transactionType  amount         initiator  oldBalInitiator  \\\n",
       "0     0         PAYMENT  579.16  4018807983755588            29.32   \n",
       "1     0        TRANSFER   39.03  4610593854752035            39.03   \n",
       "2     0        TRANSFER   21.78  4840578447365454            21.78   \n",
       "3     0         PAYMENT  570.22  4958066799829630             5.29   \n",
       "4     0         PAYMENT  574.80  4149196095918843            82.63   \n",
       "\n",
       "   newBalInitiator         recipient  oldBalRecipient  newBalRecipient  \\\n",
       "0            29.32        30-0000345             0.00             0.00   \n",
       "1             0.00  4944921135715488            55.94            94.98   \n",
       "2             0.00  4305579785620656            58.09            79.88   \n",
       "3             5.29        00-0000388             0.00             0.00   \n",
       "4            82.63        80-0005320             0.00             0.00   \n",
       "\n",
       "   isFraud  \n",
       "0        0  \n",
       "1        1  \n",
       "2        1  \n",
       "3        0  \n",
       "4        0  "
      ]
     },
     "execution_count": 1,
     "metadata": {},
     "output_type": "execute_result"
    }
   ],
   "source": [
    "import pandas as pd\n",
    "df=pd.read_csv(\"/kaggle/input/synthetic-mobile-money-transaction-dataset/MoMTSim_20240722202413_1000_dataset.csv\")\n",
    "df.head()\n"
   ]
  },
  {
   "cell_type": "code",
   "execution_count": null,
   "metadata": {
    "execution": {
     "iopub.status.busy": "2025-03-29T17:50:42.812645Z",
     "iopub.status.idle": "2025-03-29T17:50:42.812936Z",
     "shell.execute_reply": "2025-03-29T17:50:42.812827Z"
    },
    "trusted": true
   },
   "outputs": [],
   "source": [
    "df.info() # to explore my data \n",
    "df.describe() # what is 5 summary statistics of data "
   ]
  },
  {
   "cell_type": "code",
   "execution_count": null,
   "metadata": {
    "execution": {
     "iopub.status.busy": "2025-03-29T17:50:42.813558Z",
     "iopub.status.idle": "2025-03-29T17:50:42.813891Z",
     "shell.execute_reply": "2025-03-29T17:50:42.813740Z"
    },
    "trusted": true
   },
   "outputs": [],
   "source": [
    "missing_percentage = (df.isnull().sum() / len(df)) * 100\n",
    "#missing_percentage = missing_percentage[missing_percentage >0].sort_values(ascending=False)\n",
    "print(missing_percentage)\n",
    "# Here I get that there is no missing value in my data so no handling of the data "
   ]
  },
  {
   "cell_type": "markdown",
   "metadata": {},
   "source": [
    "**Analyze the Distribution of Features and Target Classes**"
   ]
  },
  {
   "cell_type": "code",
   "execution_count": null,
   "metadata": {
    "execution": {
     "iopub.status.busy": "2025-03-29T17:50:42.814881Z",
     "iopub.status.idle": "2025-03-29T17:50:42.815169Z",
     "shell.execute_reply": "2025-03-29T17:50:42.815041Z"
    },
    "trusted": true
   },
   "outputs": [],
   "source": [
    "import seaborn as sns\n",
    "import matplotlib.pyplot as plt\n",
    "df.hist(figsize=(12,18),bins=30) #only for numerical features \n",
    "plt.show()\n",
    "\n",
    "sns.countplot(x='isFraud',data=df)\n",
    "plt.show()"
   ]
  },
  {
   "cell_type": "code",
   "execution_count": null,
   "metadata": {
    "execution": {
     "iopub.status.busy": "2025-03-29T17:50:42.815772Z",
     "iopub.status.idle": "2025-03-29T17:50:42.816143Z",
     "shell.execute_reply": "2025-03-29T17:50:42.816012Z"
    },
    "trusted": true
   },
   "outputs": [],
   "source": [
    "\n",
    "# Mean values:\n",
    "\n",
    "# amount: 53,021.39\n",
    "\n",
    "# oldBalInitiator: 22,460,554.33\n",
    "\n",
    "# newBalInitiator: 22,465,267.76\n",
    "\n",
    "# oldBalRecipient: 1,685,005.12\n",
    "\n",
    "# newBalRecipient: 1,703,966.82\n",
    "\n",
    "# Median values:\n",
    "\n",
    "# amount: 596.69\n",
    "\n",
    "# oldBalInitiator: 3,655.43\n",
    "\n",
    "# newBalInitiator: 0.00\n",
    "\n",
    "# oldBalRecipient: 200,761.40\n",
    "\n",
    "# newBalRecipient: 204,247.91\n"
   ]
  },
  {
   "cell_type": "markdown",
   "metadata": {},
   "source": [
    "<!-- Second Way to analyze -->"
   ]
  },
  {
   "cell_type": "markdown",
   "metadata": {},
   "source": [
    "**Second Way to anlyze**"
   ]
  },
  {
   "cell_type": "code",
   "execution_count": null,
   "metadata": {
    "execution": {
     "iopub.status.busy": "2025-03-29T17:50:42.816858Z",
     "iopub.status.idle": "2025-03-29T17:50:42.817165Z",
     "shell.execute_reply": "2025-03-29T17:50:42.817058Z"
    },
    "trusted": true
   },
   "outputs": [],
   "source": [
    "columns_to_calculate = ['amount', 'oldBalInitiator', 'newBalInitiator', 'oldBalRecipient', 'newBalRecipient']\n",
    "class_mean = df.groupby('isFraud')[columns_to_calculate].mean()\n",
    "print(class_mean)\n"
   ]
  },
  {
   "cell_type": "code",
   "execution_count": null,
   "metadata": {
    "execution": {
     "iopub.status.busy": "2025-03-29T17:50:42.817647Z",
     "iopub.status.idle": "2025-03-29T17:50:42.817971Z",
     "shell.execute_reply": "2025-03-29T17:50:42.817861Z"
    },
    "trusted": true
   },
   "outputs": [],
   "source": [
    "class_median=df.groupby('isFraud')[columns_to_calculate].median()\n",
    "print(class_median)"
   ]
  },
  {
   "cell_type": "code",
   "execution_count": null,
   "metadata": {
    "execution": {
     "iopub.status.busy": "2025-03-29T17:50:42.818567Z",
     "iopub.status.idle": "2025-03-29T17:50:42.818897Z",
     "shell.execute_reply": "2025-03-29T17:50:42.818715Z"
    },
    "trusted": true
   },
   "outputs": [],
   "source": [
    "import numpy as np\n",
    "# Boxplot for each numerical feature\n",
    "for col in columns_to_calculate:\n",
    "    plt.figure(figsize=(8, 6))\n",
    "    log_data = np.log1p(df[col])\n",
    "    sns.boxplot(log_data)\n",
    "    plt.title(f\"Boxplot for {col}\")\n",
    "    plt.show()\n"
   ]
  },
  {
   "cell_type": "code",
   "execution_count": null,
   "metadata": {
    "execution": {
     "iopub.status.busy": "2025-03-29T17:50:42.819693Z",
     "iopub.status.idle": "2025-03-29T17:50:42.819993Z",
     "shell.execute_reply": "2025-03-29T17:50:42.819878Z"
    },
    "trusted": true
   },
   "outputs": [],
   "source": [
    "Q1 = df[columns_to_calculate].quantile(0.25)\n",
    "Q3 = df[columns_to_calculate].quantile(0.75)\n",
    "IQR = Q3 - Q1\n",
    "\n",
    "# Define lower and upper bounds\n",
    "lower_bound = Q1 - 1.5 * IQR\n",
    "upper_bound = Q3 + 1.5 * IQR\n",
    "\n",
    "# Identify outliers\n",
    "outliers = (df[columns_to_calculate] < lower_bound) | (df[columns_to_calculate] > upper_bound)\n",
    "\n",
    "# Count outliers per row (IQR)\n",
    "outlier_counts_iqr = outliers.sum(axis=1)\n",
    "\n",
    "# Select rows where at least 3 features are outliers (IQR)\n",
    "outlier_rows_iqr = df[outlier_counts_iqr >= 3]\n",
    "\n",
    "# Display results\n",
    "print(\"Total IQR-based outlier rows (at least 3 features):\", outlier_rows_iqr.shape[0])\n"
   ]
  },
  {
   "cell_type": "code",
   "execution_count": null,
   "metadata": {
    "execution": {
     "iopub.status.busy": "2025-03-29T17:50:42.820572Z",
     "iopub.status.idle": "2025-03-29T17:50:42.820922Z",
     "shell.execute_reply": "2025-03-29T17:50:42.820734Z"
    },
    "trusted": true
   },
   "outputs": [],
   "source": [
    "# Boxplot of numerical features grouped by target class\n",
    "for col in df[columns_to_calculate]:\n",
    "    plt.figure(figsize=(8, 4))\n",
    "    sns.boxplot(x='isFraud', y=col, data=df)\n",
    "    plt.title(f'Boxplot of {col} by Target Class')\n",
    "    plt.show()\n"
   ]
  },
  {
   "cell_type": "code",
   "execution_count": null,
   "metadata": {
    "execution": {
     "iopub.status.busy": "2025-03-29T17:50:42.821839Z",
     "iopub.status.idle": "2025-03-29T17:50:42.822088Z",
     "shell.execute_reply": "2025-03-29T17:50:42.821983Z"
    },
    "trusted": true
   },
   "outputs": [],
   "source": [
    "from scipy.stats import zscore\n",
    "df_zscore = df[columns_to_calculate].apply(zscore)\n",
    "outliers_z = (df_zscore > 3) | (df_zscore < -3)\n",
    "outlier_counts_z = outliers_z.sum(axis=1)\n",
    "# Select rows where at least 3 features are outliers (Z-score)\n",
    "outlier_rows_z = df[outlier_counts_z >= 3]\n",
    "# Display results\n",
    "print(\"Total Z-score-based outlier rows (at least 3 features):\", outlier_rows_z.shape[0])\n"
   ]
  },
  {
   "cell_type": "code",
   "execution_count": null,
   "metadata": {
    "execution": {
     "iopub.status.busy": "2025-03-29T17:50:42.822751Z",
     "iopub.status.idle": "2025-03-29T17:50:42.823123Z",
     "shell.execute_reply": "2025-03-29T17:50:42.822956Z"
    },
    "trusted": true
   },
   "outputs": [],
   "source": [
    "common_outliers= outlier_rows_z.index.intersection(outlier_rows_iqr.index)\n",
    "print(f\"Common outliers in both: {len(common_outliers)}\")"
   ]
  },
  {
   "cell_type": "code",
   "execution_count": null,
   "metadata": {
    "execution": {
     "iopub.status.busy": "2025-03-29T17:50:42.823688Z",
     "iopub.status.idle": "2025-03-29T17:50:42.824068Z",
     "shell.execute_reply": "2025-03-29T17:50:42.823900Z"
    },
    "trusted": true
   },
   "outputs": [],
   "source": [
    "toatl_outlier_rows=outlier_rows_iqr.shape[0]\n",
    "total_rows_data=df.shape[0]\n",
    "outliers_percentage=(toatl_outlier_rows/total_rows_data) *100\n",
    "print(outliers_percentage)"
   ]
  },
  {
   "cell_type": "code",
   "execution_count": null,
   "metadata": {
    "execution": {
     "iopub.status.busy": "2025-03-29T17:50:42.824682Z",
     "iopub.status.idle": "2025-03-29T17:50:42.825052Z",
     "shell.execute_reply": "2025-03-29T17:50:42.824927Z"
    },
    "trusted": true
   },
   "outputs": [],
   "source": [
    "df_capped = df[columns_to_calculate].copy()\n",
    "df_capped = df_capped.clip(lower=lower_bound, upper=upper_bound, axis=1)\n",
    "\n",
    "print(\"Outliers have been capped at IQR bounds.\")"
   ]
  },
  {
   "cell_type": "code",
   "execution_count": null,
   "metadata": {
    "execution": {
     "iopub.status.busy": "2025-03-29T17:50:42.825602Z",
     "iopub.status.idle": "2025-03-29T17:50:42.826030Z",
     "shell.execute_reply": "2025-03-29T17:50:42.825827Z"
    },
    "trusted": true
   },
   "outputs": [],
   "source": [
    "plt.figure(figsize=(10, 6))\n",
    "sns.boxplot(x=df[\"isFraud\"], y=np.log1p(df[\"amount\"]), data=df)  # Applying log transformation\n",
    "plt.title(\"Log-Transformed Transaction Amount Distribution by Fraud Class\")\n",
    "plt.xlabel(\"Fraud (1) vs. Non-Fraud (0)\")\n",
    "plt.ylabel(\"Log(Transaction Amount)\")\n",
    "plt.show()\n"
   ]
  },
  {
   "cell_type": "code",
   "execution_count": null,
   "metadata": {
    "execution": {
     "iopub.status.busy": "2025-03-29T17:50:42.827320Z",
     "iopub.status.idle": "2025-03-29T17:50:42.827698Z",
     "shell.execute_reply": "2025-03-29T17:50:42.827536Z"
    },
    "trusted": true
   },
   "outputs": [],
   "source": [
    "plt.figure(figsize=(9,6))\n",
    "plt.subplots_adjust(left=0.15, right=0.85, top=0.85, bottom=0.15)\n",
    "sns.countplot(data=df, x='transactionType', hue='isFraud', palette=['#766CDB', '#DA847C'])\n",
    "plt.title('Count of Transaction Types by Fraud Status', pad=15, fontsize=20, weight='semibold', color='#222222')\n",
    "plt.xlabel('Transaction Type', labelpad=10, fontsize=16, weight='medium', color='#333333')\n",
    "plt.ylabel('Count', labelpad=10, fontsize=16, weight='medium', color='#333333')\n",
    "plt.xticks(fontsize=14, color='#555555')\n",
    "plt.yticks(fontsize=14, color='#555555')\n",
    "plt.legend(title='isFraud', fontsize=12, title_fontsize=12, loc='upper right')\n",
    "plt.gca().set_axisbelow(True)\n",
    "plt.show()\n",
    "print('Displayed Visualization 2: Count plot of transaction types by fraud status.')\n"
   ]
  },
  {
   "cell_type": "code",
   "execution_count": null,
   "metadata": {
    "execution": {
     "iopub.status.busy": "2025-03-29T17:50:42.828495Z",
     "iopub.status.idle": "2025-03-29T17:50:42.828937Z",
     "shell.execute_reply": "2025-03-29T17:50:42.828724Z"
    },
    "trusted": true
   },
   "outputs": [],
   "source": [
    "# Visualization 3: Scatter plot of oldBalInitiator vs newBalInitiator colored by fraud status\n",
    "plt.figure(figsize=(9,6))\n",
    "plt.subplots_adjust(left=0.15, right=0.85, top=0.85, bottom=0.15)\n",
    "# Adding a small jitter by using alpha and sizes to show density\n",
    "sns.scatterplot(data=df, x='oldBalInitiator', y='newBalInitiator', hue='isFraud', palette=['#877877', '#52515E'], alpha=0.7)\n",
    "plt.title('Initiator Balance Transition by Fraud Status', pad=15, fontsize=20, weight='semibold', color='#222222')\n",
    "plt.xlabel('Old Balance (Initiator)', labelpad=10, fontsize=16, weight='medium', color='#333333')\n",
    "plt.ylabel('New Balance (Initiator)', labelpad=10, fontsize=16, weight='medium', color='#333333')\n",
    "plt.xticks(fontsize=14, color='#555555')\n",
    "plt.yticks(fontsize=14, color='#555555')\n",
    "plt.legend(title='isFraud', fontsize=12, title_fontsize=12, loc='upper right')\n",
    "plt.gca().set_axisbelow(True)\n",
    "plt.show()\n",
    "print('Displayed Visualization 3: Scatter plot of oldBalInitiator vs newBalInitiator colored by fraud status.')"
   ]
  },
  {
   "cell_type": "code",
   "execution_count": null,
   "metadata": {
    "execution": {
     "iopub.status.busy": "2025-03-29T17:50:42.830140Z",
     "iopub.status.idle": "2025-03-29T17:50:42.830575Z",
     "shell.execute_reply": "2025-03-29T17:50:42.830385Z"
    },
    "trusted": true
   },
   "outputs": [],
   "source": [
    "filtered_df = df.drop(columns=[\"initiator\", \"transactionType\", \"recipient\"], errors=\"ignore\")\n",
    "\n",
    "# Compute correlation matrix\n",
    "correlation_matrix = filtered_df.corr()\n",
    "\n",
    "# Plot heatmap\n",
    "plt.figure(figsize=(10, 6))\n",
    "sns.heatmap(correlation_matrix, annot=True, fmt=\".2f\", cmap=\"coolwarm\", linewidths=0.5, cbar=True)\n",
    "\n",
    "# Add title\n",
    "plt.title(\"Correlation Matrix of Numerical Features\", fontsize=14)\n",
    "plt.show()"
   ]
  },
  {
   "cell_type": "code",
   "execution_count": null,
   "metadata": {
    "execution": {
     "iopub.status.busy": "2025-03-29T17:50:42.831391Z",
     "iopub.status.idle": "2025-03-29T17:50:42.831756Z",
     "shell.execute_reply": "2025-03-29T17:50:42.831596Z"
    },
    "trusted": true
   },
   "outputs": [],
   "source": [
    "# Summary statistics for numerical features\n",
    "print(df.describe())\n",
    "\n",
    "# Summary of categorical features\n",
    "print(df.describe(include=['object']))"
   ]
  },
  {
   "cell_type": "code",
   "execution_count": null,
   "metadata": {
    "execution": {
     "iopub.status.busy": "2025-03-29T17:50:42.832456Z",
     "iopub.status.idle": "2025-03-29T17:50:42.832844Z",
     "shell.execute_reply": "2025-03-29T17:50:42.832661Z"
    },
    "trusted": true
   },
   "outputs": [],
   "source": [
    "\n",
    "df[columns_to_calculate] = df_capped.clip(lower=lower_bound, upper=upper_bound, axis=1)\n",
    "\n",
    "print(\"Outliers have been capped at IQR bounds.\")\n",
    "\n",
    "df.head()"
   ]
  },
  {
   "cell_type": "code",
   "execution_count": null,
   "metadata": {
    "execution": {
     "iopub.status.busy": "2025-03-29T17:50:42.833652Z",
     "iopub.status.idle": "2025-03-29T17:50:42.834082Z",
     "shell.execute_reply": "2025-03-29T17:50:42.833901Z"
    },
    "trusted": true
   },
   "outputs": [],
   "source": [
    "# Check for duplicates\n",
    "duplicate_count = df.duplicated().sum()\n",
    "print(f\"Number of duplicate rows: {duplicate_count}\")\n",
    "\n",
    "# Remove duplicates\n",
    "df = df.drop_duplicates()\n"
   ]
  },
  {
   "cell_type": "code",
   "execution_count": 6,
   "metadata": {
    "execution": {
     "iopub.execute_input": "2025-03-29T18:10:04.221294Z",
     "iopub.status.busy": "2025-03-29T18:10:04.220948Z",
     "iopub.status.idle": "2025-03-29T18:10:04.894302Z",
     "shell.execute_reply": "2025-03-29T18:10:04.893548Z",
     "shell.execute_reply.started": "2025-03-29T18:10:04.221268Z"
    },
    "trusted": true
   },
   "outputs": [
    {
     "data": {
      "text/html": [
       "<div>\n",
       "<style scoped>\n",
       "    .dataframe tbody tr th:only-of-type {\n",
       "        vertical-align: middle;\n",
       "    }\n",
       "\n",
       "    .dataframe tbody tr th {\n",
       "        vertical-align: top;\n",
       "    }\n",
       "\n",
       "    .dataframe thead th {\n",
       "        text-align: right;\n",
       "    }\n",
       "</style>\n",
       "<table border=\"1\" class=\"dataframe\">\n",
       "  <thead>\n",
       "    <tr style=\"text-align: right;\">\n",
       "      <th></th>\n",
       "      <th>step</th>\n",
       "      <th>transactionType</th>\n",
       "      <th>amount</th>\n",
       "      <th>initiator</th>\n",
       "      <th>oldBalInitiator</th>\n",
       "      <th>newBalInitiator</th>\n",
       "      <th>recipient</th>\n",
       "      <th>oldBalRecipient</th>\n",
       "      <th>newBalRecipient</th>\n",
       "      <th>isFraud</th>\n",
       "      <th>initiator_type</th>\n",
       "      <th>recipient_type</th>\n",
       "    </tr>\n",
       "  </thead>\n",
       "  <tbody>\n",
       "    <tr>\n",
       "      <th>0</th>\n",
       "      <td>0</td>\n",
       "      <td>2</td>\n",
       "      <td>579.16</td>\n",
       "      <td>4018807983755588</td>\n",
       "      <td>29.32</td>\n",
       "      <td>29.32</td>\n",
       "      <td>30-0000345</td>\n",
       "      <td>0.00</td>\n",
       "      <td>0.00</td>\n",
       "      <td>0</td>\n",
       "      <td>1</td>\n",
       "      <td>2</td>\n",
       "    </tr>\n",
       "    <tr>\n",
       "      <th>1</th>\n",
       "      <td>0</td>\n",
       "      <td>3</td>\n",
       "      <td>39.03</td>\n",
       "      <td>4610593854752035</td>\n",
       "      <td>39.03</td>\n",
       "      <td>0.00</td>\n",
       "      <td>4944921135715488</td>\n",
       "      <td>55.94</td>\n",
       "      <td>94.98</td>\n",
       "      <td>1</td>\n",
       "      <td>1</td>\n",
       "      <td>1</td>\n",
       "    </tr>\n",
       "    <tr>\n",
       "      <th>2</th>\n",
       "      <td>0</td>\n",
       "      <td>3</td>\n",
       "      <td>21.78</td>\n",
       "      <td>4840578447365454</td>\n",
       "      <td>21.78</td>\n",
       "      <td>0.00</td>\n",
       "      <td>4305579785620656</td>\n",
       "      <td>58.09</td>\n",
       "      <td>79.88</td>\n",
       "      <td>1</td>\n",
       "      <td>1</td>\n",
       "      <td>1</td>\n",
       "    </tr>\n",
       "    <tr>\n",
       "      <th>3</th>\n",
       "      <td>0</td>\n",
       "      <td>2</td>\n",
       "      <td>570.22</td>\n",
       "      <td>4958066799829630</td>\n",
       "      <td>5.29</td>\n",
       "      <td>5.29</td>\n",
       "      <td>00-0000388</td>\n",
       "      <td>0.00</td>\n",
       "      <td>0.00</td>\n",
       "      <td>0</td>\n",
       "      <td>1</td>\n",
       "      <td>2</td>\n",
       "    </tr>\n",
       "    <tr>\n",
       "      <th>4</th>\n",
       "      <td>0</td>\n",
       "      <td>2</td>\n",
       "      <td>574.80</td>\n",
       "      <td>4149196095918843</td>\n",
       "      <td>82.63</td>\n",
       "      <td>82.63</td>\n",
       "      <td>80-0005320</td>\n",
       "      <td>0.00</td>\n",
       "      <td>0.00</td>\n",
       "      <td>0</td>\n",
       "      <td>1</td>\n",
       "      <td>2</td>\n",
       "    </tr>\n",
       "  </tbody>\n",
       "</table>\n",
       "</div>"
      ],
      "text/plain": [
       "   step  transactionType  amount         initiator  oldBalInitiator  \\\n",
       "0     0                2  579.16  4018807983755588            29.32   \n",
       "1     0                3   39.03  4610593854752035            39.03   \n",
       "2     0                3   21.78  4840578447365454            21.78   \n",
       "3     0                2  570.22  4958066799829630             5.29   \n",
       "4     0                2  574.80  4149196095918843            82.63   \n",
       "\n",
       "   newBalInitiator         recipient  oldBalRecipient  newBalRecipient  \\\n",
       "0            29.32        30-0000345             0.00             0.00   \n",
       "1             0.00  4944921135715488            55.94            94.98   \n",
       "2             0.00  4305579785620656            58.09            79.88   \n",
       "3             5.29        00-0000388             0.00             0.00   \n",
       "4            82.63        80-0005320             0.00             0.00   \n",
       "\n",
       "   isFraud  initiator_type  recipient_type  \n",
       "0        0               1               2  \n",
       "1        1               1               1  \n",
       "2        1               1               1  \n",
       "3        0               1               2  \n",
       "4        0               1               2  "
      ]
     },
     "execution_count": 6,
     "metadata": {},
     "output_type": "execute_result"
    }
   ],
   "source": [
    "from sklearn.preprocessing import LabelEncoder\n",
    "\n",
    "encoder = LabelEncoder()\n",
    "df['transactionType'] = encoder.fit_transform(df['transactionType'])\n",
    "df.head()"
   ]
  },
  {
   "cell_type": "code",
   "execution_count": null,
   "metadata": {
    "execution": {
     "iopub.status.busy": "2025-03-29T17:50:42.836182Z",
     "iopub.status.idle": "2025-03-29T17:50:42.836626Z",
     "shell.execute_reply": "2025-03-29T17:50:42.836435Z"
    },
    "trusted": true
   },
   "outputs": [],
   "source": [
    "import pandas as pd\n",
    "from sklearn.model_selection import train_test_split\n",
    "\n",
    "# Function to categorize initiator and recipient\n",
    "def categorize_id(value):\n",
    "    value = str(value)  # Ensure it's treated as a string\n",
    "    if value.isdigit():  # If it's a pure number (e.g., credit card-like)\n",
    "        return 1\n",
    "    else:  # If it contains special characters (e.g., bank ID format)\n",
    "        return 2\n",
    "\n",
    "# Apply categorization\n",
    "df['initiator_type'] = df['initiator'].apply(categorize_id)\n",
    "df['recipient_type'] = df['recipient'].apply(categorize_id)\n",
    "\n",
    "# Drop original columns after encoding\n",
    "\n",
    "# Automatically detect numerical features\n",
    "numerical_features = df.select_dtypes(include=['number']).columns.tolist()\n",
    "\n",
    "# Detect encoded categorical features (e.g., one-hot encoded transaction types)\n",
    "encoded_features = ['transactionType']\n",
    "\n",
    "# Define final feature set\n",
    "features = numerical_features + encoded_features + ['initiator_type', 'recipient_type']\n",
    "\n",
    "# Define target variable\n",
    "target = 'isFraud'\n",
    "\n",
    "# Define X (features) and y (target)\n",
    "X = df[features]\n",
    "y = df[target]\n",
    "\n",
    "# Split the data into training (80%) and testing (20%)\n",
    "X_train, X_test, y_train, y_test = train_test_split(X, y, test_size=0.2, random_state=42, stratify=y)\n",
    "\n",
    "# Print dataset shape after split\n",
    "print(f\"Training set: X_train={X_train.shape}, y_train={y_train.shape}\")\n",
    "print(f\"Testing set: X_test={X_test.shape}, y_test={y_test.shape}\")"
   ]
  },
  {
   "cell_type": "code",
   "execution_count": null,
   "metadata": {
    "execution": {
     "iopub.status.busy": "2025-03-29T17:50:42.838046Z",
     "iopub.status.idle": "2025-03-29T17:50:42.838473Z",
     "shell.execute_reply": "2025-03-29T17:50:42.838282Z"
    },
    "trusted": true
   },
   "outputs": [],
   "source": [
    "from sklearn.preprocessing import MinMaxScaler, StandardScaler\n",
    "# Min-Max Scaling\n",
    "minmax_scaler = MinMaxScaler()\n",
    "X_train_minmax = minmax_scaler.fit_transform(X_train)\n",
    "X_test_minmax = minmax_scaler.transform(X_test)\n",
    "\n",
    "# Z-score Normalization (Standardization)\n",
    "zscore_scaler = StandardScaler()\n",
    "X_train_zscore = zscore_scaler.fit_transform(X_train)\n",
    "X_test_zscore = zscore_scaler.transform(X_test)\n"
   ]
  },
  {
   "cell_type": "code",
   "execution_count": null,
   "metadata": {
    "execution": {
     "iopub.status.busy": "2025-03-29T17:50:42.839303Z",
     "iopub.status.idle": "2025-03-29T17:50:42.839723Z",
     "shell.execute_reply": "2025-03-29T17:50:42.839546Z"
    },
    "trusted": true
   },
   "outputs": [],
   "source": [
    "!pip install cudf-cu11 cuml-cu11 --extra-index-url=https://pypi.nvidia.com\n"
   ]
  },
  {
   "cell_type": "code",
   "execution_count": null,
   "metadata": {
    "execution": {
     "iopub.status.busy": "2025-03-29T17:50:42.840483Z",
     "iopub.status.idle": "2025-03-29T17:50:42.840914Z",
     "shell.execute_reply": "2025-03-29T17:50:42.840688Z"
    },
    "trusted": true
   },
   "outputs": [],
   "source": [
    "import cupy as cp\n",
    "from cuml.neighbors import KNeighborsClassifier as cuKNN\n",
    "from sklearn.metrics import accuracy_score\n",
    "# 🔹 Convert data to GPU format (CuPy)\n",
    "X_train_minmax_gpu = cp.asarray(X_train_minmax)\n",
    "X_test_minmax_gpu = cp.asarray(X_test_minmax)\n",
    "X_train_zscore_gpu = cp.asarray(X_train_zscore)\n",
    "X_test_zscore_gpu = cp.asarray(X_test_zscore)\n",
    "y_train_gpu = cp.asarray(y_train)\n",
    "y_test_gpu = cp.asarray(y_test)\n",
    "\n",
    "# 🔹 Hyperparameters (Single Values)\n",
    "k = 5  # KNN\n",
    "svm_kernel = 'rbf'  # SVM Kernel\n",
    "C = 1  # SVM & Logistic Regression Regularization\n",
    "\n",
    "# Store results\n",
    "results = {}\n",
    "\n",
    "#  **K-Nearest Neighbors (KNN)**\n",
    "knn_minmax_gpu = KNeighborsClassifier(n_neighbors=k)\n",
    "knn_minmax_gpu.fit(X_train_minmax_gpu, y_train_gpu)\n",
    "y_pred_knn_minmax_gpu = cp.asnumpy(knn_minmax_gpu.predict(X_test_minmax_gpu))\n",
    "\n",
    "knn_zscore_gpu = KNeighborsClassifier(n_neighbors=k)\n",
    "knn_zscore_gpu.fit(X_train_zscore_gpu, y_train_gpu)\n",
    "y_pred_knn_zscore_gpu = cp.asnumpy(knn_zscore_gpu.predict(X_test_zscore_gpu))\n",
    "\n",
    "# Compute accuracy\n",
    "results[(\"KNN\", \"MinMax\")] = accuracy_score(y_test, y_pred_knn_minmax_gpu)\n",
    "results[(\"KNN\", \"Zscore\")] = accuracy_score(y_test, y_pred_knn_zscore_gpu)\n",
    "\n"
   ]
  },
  {
   "cell_type": "code",
   "execution_count": null,
   "metadata": {
    "execution": {
     "iopub.status.busy": "2025-03-29T17:50:42.841673Z",
     "iopub.status.idle": "2025-03-29T17:50:42.842063Z",
     "shell.execute_reply": "2025-03-29T17:50:42.841899Z"
    },
    "trusted": true
   },
   "outputs": [],
   "source": [
    "import cuml\n",
    "print(dir(cuml))\n"
   ]
  },
  {
   "cell_type": "code",
   "execution_count": null,
   "metadata": {
    "execution": {
     "iopub.status.busy": "2025-03-29T17:50:42.843252Z",
     "iopub.status.idle": "2025-03-29T17:50:42.843667Z",
     "shell.execute_reply": "2025-03-29T17:50:42.843487Z"
    },
    "trusted": true
   },
   "outputs": [],
   "source": [
    "#  **Support Vector Machine (SVM)**\n",
    "svm_minmax_gpu = SVC(kernel=svm_kernel, C=C)\n",
    "svm_minmax_gpu.fit(X_train_minmax_gpu, y_train_gpu)\n",
    "y_pred_svm_minmax_gpu = cp.asnumpy(svm_minmax_gpu.predict(X_test_minmax_gpu))\n",
    "\n",
    "svm_zscore_gpu = SVC(kernel=svm_kernel, C=C)\n",
    "svm_zscore_gpu.fit(X_train_zscore_gpu, y_train_gpu)\n",
    "y_pred_svm_zscore_gpu = cp.asnumpy(svm_zscore_gpu.predict(X_test_zscore_gpu))\n",
    "\n",
    "# Compute accuracy\n",
    "results[(\"SVM\", \"MinMax\")] = accuracy_score(y_test, y_pred_svm_minmax_gpu)\n",
    "results[(\"SVM\", \"Zscore\")] = accuracy_score(y_test, y_pred_svm_zscore_gpu)\n",
    "\n",
    "\n",
    "\n"
   ]
  },
  {
   "cell_type": "code",
   "execution_count": null,
   "metadata": {
    "execution": {
     "iopub.status.busy": "2025-03-29T17:50:42.844448Z",
     "iopub.status.idle": "2025-03-29T17:50:42.844862Z",
     "shell.execute_reply": "2025-03-29T17:50:42.844661Z"
    },
    "trusted": true
   },
   "outputs": [],
   "source": [
    "from cuml.linear_model import LogisticRegression\n",
    "lr_minmax_gpu = LogisticRegression(C=C)\n",
    "lr_minmax_gpu.fit(X_train_minmax_gpu, y_train_gpu)\n",
    "y_pred_lr_minmax_gpu = cp.asnumpy(lr_minmax_gpu.predict(X_test_minmax_gpu))\n",
    "\n",
    "lr_zscore_gpu = LogisticRegression(C=C)\n",
    "lr_zscore_gpu.fit(X_train_zscore_gpu, y_train_gpu)\n",
    "y_pred_lr_zscore_gpu = cp.asnumpy(lr_zscore_gpu.predict(X_test_zscore_gpu))\n",
    "\n",
    "\n",
    "results[(\"LogReg\", \"MinMax\")] = accuracy_score(y_test, y_pred_lr_minmax_gpu)\n",
    "results[(\"LogReg\", \"Zscore\")] = accuracy_score(y_test, y_pred_lr_zscore_gpu)\n"
   ]
  },
  {
   "cell_type": "code",
   "execution_count": null,
   "metadata": {
    "execution": {
     "iopub.status.busy": "2025-03-29T17:50:42.845623Z",
     "iopub.status.idle": "2025-03-29T17:50:42.846094Z",
     "shell.execute_reply": "2025-03-29T17:50:42.845905Z"
    },
    "trusted": true
   },
   "outputs": [],
   "source": [
    "print(\"\\n🔹 Accuracy Summary:\")\n",
    "for key, value in results.items():\n",
    "    print(f\"{key}: {value:.4f}\")"
   ]
  },
  {
   "cell_type": "code",
   "execution_count": null,
   "metadata": {
    "execution": {
     "iopub.status.busy": "2025-03-29T17:50:42.847027Z",
     "iopub.status.idle": "2025-03-29T17:50:42.847494Z",
     "shell.execute_reply": "2025-03-29T17:50:42.847308Z"
    },
    "trusted": true
   },
   "outputs": [],
   "source": [
    "import seaborn as sns\n",
    "corr_matrix = X.corr()\n",
    "\n",
    "# Plot heatmap of correlations\n",
    "plt.figure(figsize=(10, 8))\n",
    "sns.heatmap(corr_matrix, annot=True, cmap=\"coolwarm\", fmt=\".2f\")\n",
    "plt.title(\"Feature Correlation Matrix\")\n",
    "plt.show()"
   ]
  },
  {
   "cell_type": "markdown",
   "metadata": {},
   "source": [
    "**For stratified splitting**"
   ]
  },
  {
   "cell_type": "code",
   "execution_count": null,
   "metadata": {
    "execution": {
     "iopub.status.busy": "2025-03-29T17:50:42.848549Z",
     "iopub.status.idle": "2025-03-29T17:50:42.848958Z",
     "shell.execute_reply": "2025-03-29T17:50:42.848808Z"
    },
    "trusted": true
   },
   "outputs": [],
   "source": [
    "X_train, X_test, y_train, y_test = train_test_split(X, y, test_size=0.2, stratify=y, random_state=42)"
   ]
  },
  {
   "cell_type": "code",
   "execution_count": null,
   "metadata": {
    "execution": {
     "iopub.status.busy": "2025-03-29T17:50:42.849702Z",
     "iopub.status.idle": "2025-03-29T17:50:42.850079Z",
     "shell.execute_reply": "2025-03-29T17:50:42.849912Z"
    },
    "trusted": true
   },
   "outputs": [],
   "source": [
    "models = {\n",
    "    'KNN': KNeighborsClassifier(n_neighbors=3),\n",
    "    'SVM': SVC(kernel='linear', C=1),\n",
    "    'LogReg': LogisticRegression(C=1, max_iter=500)\n",
    "}\n",
    "\n",
    "\n",
    "accuracy_results = {}\n",
    "for name, model in models.items():\n",
    "    # Train & test on MinMax scaled data\n",
    "    model.fit(X_train_minmax, y_train)\n",
    "    y_pred_minmax = model.predict(X_test_minmax)\n",
    "    accuracy_results[(name, 'MinMax')] = accuracy_score(y_test, y_pred_minmax)\n",
    "\n",
    "    # Train & test on Z-score normalized data\n",
    "    model.fit(X_train_zscore, y_train)\n",
    "    y_pred_zscore = model.predict(X_test_zscore)\n",
    "    accuracy_results[(name, 'Zscore')] = accuracy_score(y_test, y_pred_zscore)\n",
    "\n",
    "\n",
    "for key, acc in accuracy_results.items():\n",
    "    print(f\"Model: {key[0]} | Scaling: {key[1]} | Accuracy: {acc:.4f}\")\n"
   ]
  },
  {
   "cell_type": "markdown",
   "metadata": {},
   "source": [
    "**Adding Some Noise**"
   ]
  },
  {
   "cell_type": "code",
   "execution_count": 9,
   "metadata": {
    "execution": {
     "iopub.execute_input": "2025-03-29T18:10:41.367741Z",
     "iopub.status.busy": "2025-03-29T18:10:41.367468Z",
     "iopub.status.idle": "2025-03-29T18:10:49.471621Z",
     "shell.execute_reply": "2025-03-29T18:10:49.470484Z",
     "shell.execute_reply.started": "2025-03-29T18:10:41.367721Z"
    },
    "trusted": true
   },
   "outputs": [
    {
     "name": "stdout",
     "output_type": "stream",
     "text": [
      "Training set: (3380766, 11), Test set: (845192, 11)\n"
     ]
    }
   ],
   "source": [
    "import pandas as pd\n",
    "import numpy as np\n",
    "from sklearn.model_selection import train_test_split\n",
    "\n",
    "# Function to categorize IDs\n",
    "def categorize_id(value):\n",
    "    return 1 if str(value).isdigit() else 2\n",
    "\n",
    "# Apply categorization\n",
    "df['initiator_type'] = df['initiator'].apply(categorize_id)\n",
    "df['recipient_type'] = df['recipient'].apply(categorize_id)\n",
    "\n",
    "# Detect features correctly\n",
    "numerical_features = df.select_dtypes(include=['number']).columns.tolist()\n",
    "encoded_features = ['transactionType']\n",
    "\n",
    "# Remove target from numerical features if present\n",
    "if 'isFraud' in numerical_features:\n",
    "    numerical_features.remove('isFraud')\n",
    "\n",
    "# Define final features (no duplicates)\n",
    "features = numerical_features + encoded_features  # initiator/recipient_type already in numerical_features\n",
    "\n",
    "# Define target\n",
    "target = 'isFraud'\n",
    "\n",
    "# Split data\n",
    "X = df[features]\n",
    "y = df[target]\n",
    "X_train, X_test, y_train, y_test = train_test_split(X, y, test_size=0.2, random_state=42, stratify=y)\n",
    "\n",
    "def add_noise_to_data(X_train, X_test, y_train, numerical_features):\n",
    "    X_train = X_train.copy()\n",
    "    X_test = X_test.copy()\n",
    "    y_train = y_train.copy()\n",
    "    \n",
    "    np.random.seed(42)\n",
    "    noise_level = 0.05\n",
    "    \n",
    "    for feature in numerical_features:\n",
    "        # Compute standard deviation safely\n",
    "        std = X_train[feature].std()\n",
    "        \n",
    "        if np.isscalar(std) and std > 0:  # Ensure std is a scalar\n",
    "            # Add noise to train\n",
    "            noise = np.random.normal(0, std * noise_level, X_train[feature].shape[0])\n",
    "            X_train[feature] += noise\n",
    "            \n",
    "            # Add noise to test\n",
    "            noise = np.random.normal(0, std * noise_level, X_test[feature].shape[0])\n",
    "            X_test[feature] += noise\n",
    "\n",
    "    # Add label noise (flip labels randomly)\n",
    "    flip_mask = np.random.rand(len(y_train)) < 0.01\n",
    "    y_train.iloc[flip_mask] = 1 - y_train.iloc[flip_mask]  # Ensure correct indexing\n",
    "    \n",
    "    return X_train, X_test, y_train\n",
    "\n",
    "# Apply noise\n",
    "X_train_noisy, X_test_noisy, y_train_noisy = add_noise_to_data(\n",
    "    X_train, X_test, y_train, numerical_features\n",
    ")\n",
    "\n",
    "print(f\"Training set: {X_train_noisy.shape}, Test set: {X_test_noisy.shape}\")\n"
   ]
  },
  {
   "cell_type": "code",
   "execution_count": 11,
   "metadata": {
    "execution": {
     "iopub.execute_input": "2025-03-29T18:15:14.095974Z",
     "iopub.status.busy": "2025-03-29T18:15:14.095697Z",
     "iopub.status.idle": "2025-03-29T18:29:48.850869Z",
     "shell.execute_reply": "2025-03-29T18:29:48.849987Z",
     "shell.execute_reply.started": "2025-03-29T18:15:14.095954Z"
    },
    "trusted": true
   },
   "outputs": [
    {
     "name": "stdout",
     "output_type": "stream",
     "text": [
      "\n",
      "Running GPU-Accelerated KNN on noisy dataset...\n",
      "\n",
      "Metric: euclidean, k=1, Accuracy: 0.9423, Time: 83.32s\n",
      "Metric: euclidean, k=3, Accuracy: 0.9577, Time: 83.91s\n",
      "Metric: euclidean, k=5, Accuracy: 0.9607, Time: 84.07s\n",
      "Metric: manhattan, k=1, Accuracy: 0.9423, Time: 198.62s\n",
      "Metric: manhattan, k=3, Accuracy: 0.9576, Time: 211.72s\n",
      "Metric: manhattan, k=5, Accuracy: 0.9607, Time: 212.06s\n",
      "\n",
      "Final Results (GPU KNN):\n",
      "   Distance Metric  k  Accuracy  Time Taken (s)\n",
      "0       euclidean  1  0.942263       83.321291\n",
      "1       euclidean  3  0.957724       83.908886\n",
      "2       euclidean  5  0.960685       84.070700\n",
      "3       manhattan  1  0.942290      198.624898\n",
      "4       manhattan  3  0.957634      211.717520\n",
      "5       manhattan  5  0.960711      212.063099\n"
     ]
    }
   ],
   "source": [
    "import time\n",
    "import cudf  # GPU DataFrame (similar to pandas)\n",
    "import cupy as cp  # GPU Arrays (similar to NumPy)\n",
    "from cuml.neighbors import KNeighborsClassifier  # GPU-accelerated KNN\n",
    "from cuml.metrics import accuracy_score  # GPU accuracy computation\n",
    "from sklearn.model_selection import train_test_split\n",
    "from sklearn.preprocessing import StandardScaler\n",
    "scaler = StandardScaler()\n",
    "X_train_scaled = scaler.fit_transform(X_train_noisy)\n",
    "X_test_scaled = scaler.transform(X_test_noisy)\n",
    "\n",
    "# Convert to cudf DataFrame for GPU processing\n",
    "X_train_gpu = cudf.DataFrame(X_train_scaled)\n",
    "X_test_gpu = cudf.DataFrame(X_test_scaled)\n",
    "y_train_gpu = cudf.Series(y_train_noisy.values)\n",
    "y_test_gpu = cudf.Series(y_test.values)\n",
    "\n",
    "# Define different k values\n",
    "k_values = [1, 3, 5,]\n",
    "\n",
    "# Distance metrics to test\n",
    "distance_metrics = ['euclidean', 'manhattan']\n",
    "\n",
    "# Store results\n",
    "results = []\n",
    "\n",
    "print(\"\\nRunning GPU-Accelerated KNN on noisy dataset...\\n\")\n",
    "\n",
    "for metric in distance_metrics:\n",
    "    for k in k_values:\n",
    "        start_time = time.time()\n",
    "        \n",
    "        # Train GPU-accelerated KNN\n",
    "        knn_gpu = KNeighborsClassifier(n_neighbors=k, metric=metric)\n",
    "        knn_gpu.fit(X_train_gpu, y_train_gpu)\n",
    "        \n",
    "        # Predict using GPU\n",
    "        y_pred_gpu = knn_gpu.predict(X_test_gpu)\n",
    "        \n",
    "        # Compute accuracy on GPU\n",
    "        accuracy = accuracy_score(y_test_gpu, y_pred_gpu)\n",
    "        \n",
    "        # Time taken\n",
    "        time_taken = time.time() - start_time\n",
    "        \n",
    "        # Store results\n",
    "        results.append((metric, k, float(accuracy), time_taken))\n",
    "        \n",
    "        print(f\"Metric: {metric}, k={k}, Accuracy: {accuracy:.4f}, Time: {time_taken:.2f}s\")\n",
    "\n",
    "# Convert results to cudf DataFrame\n",
    "results_df = cudf.DataFrame(results, columns=['Distance Metric', 'k', 'Accuracy', 'Time Taken (s)'])\n",
    "\n",
    "# Convert to pandas for display\n",
    "print(\"\\nFinal Results (GPU KNN):\\n\", results_df.to_pandas())\n"
   ]
  },
  {
   "cell_type": "code",
   "execution_count": 8,
   "metadata": {
    "execution": {
     "iopub.execute_input": "2025-03-29T18:10:25.629413Z",
     "iopub.status.busy": "2025-03-29T18:10:25.629067Z",
     "iopub.status.idle": "2025-03-29T18:10:25.641977Z",
     "shell.execute_reply": "2025-03-29T18:10:25.641273Z",
     "shell.execute_reply.started": "2025-03-29T18:10:25.629386Z"
    },
    "trusted": true
   },
   "outputs": [
    {
     "data": {
      "text/html": [
       "<div>\n",
       "<style scoped>\n",
       "    .dataframe tbody tr th:only-of-type {\n",
       "        vertical-align: middle;\n",
       "    }\n",
       "\n",
       "    .dataframe tbody tr th {\n",
       "        vertical-align: top;\n",
       "    }\n",
       "\n",
       "    .dataframe thead th {\n",
       "        text-align: right;\n",
       "    }\n",
       "</style>\n",
       "<table border=\"1\" class=\"dataframe\">\n",
       "  <thead>\n",
       "    <tr style=\"text-align: right;\">\n",
       "      <th></th>\n",
       "      <th>step</th>\n",
       "      <th>transactionType</th>\n",
       "      <th>amount</th>\n",
       "      <th>initiator</th>\n",
       "      <th>oldBalInitiator</th>\n",
       "      <th>newBalInitiator</th>\n",
       "      <th>recipient</th>\n",
       "      <th>oldBalRecipient</th>\n",
       "      <th>newBalRecipient</th>\n",
       "      <th>isFraud</th>\n",
       "      <th>initiator_type</th>\n",
       "      <th>recipient_type</th>\n",
       "    </tr>\n",
       "  </thead>\n",
       "  <tbody>\n",
       "    <tr>\n",
       "      <th>0</th>\n",
       "      <td>0</td>\n",
       "      <td>2</td>\n",
       "      <td>579.16</td>\n",
       "      <td>4018807983755588</td>\n",
       "      <td>29.32</td>\n",
       "      <td>29.32</td>\n",
       "      <td>30-0000345</td>\n",
       "      <td>0.00</td>\n",
       "      <td>0.00</td>\n",
       "      <td>0</td>\n",
       "      <td>1</td>\n",
       "      <td>2</td>\n",
       "    </tr>\n",
       "    <tr>\n",
       "      <th>1</th>\n",
       "      <td>0</td>\n",
       "      <td>3</td>\n",
       "      <td>39.03</td>\n",
       "      <td>4610593854752035</td>\n",
       "      <td>39.03</td>\n",
       "      <td>0.00</td>\n",
       "      <td>4944921135715488</td>\n",
       "      <td>55.94</td>\n",
       "      <td>94.98</td>\n",
       "      <td>1</td>\n",
       "      <td>1</td>\n",
       "      <td>1</td>\n",
       "    </tr>\n",
       "    <tr>\n",
       "      <th>2</th>\n",
       "      <td>0</td>\n",
       "      <td>3</td>\n",
       "      <td>21.78</td>\n",
       "      <td>4840578447365454</td>\n",
       "      <td>21.78</td>\n",
       "      <td>0.00</td>\n",
       "      <td>4305579785620656</td>\n",
       "      <td>58.09</td>\n",
       "      <td>79.88</td>\n",
       "      <td>1</td>\n",
       "      <td>1</td>\n",
       "      <td>1</td>\n",
       "    </tr>\n",
       "    <tr>\n",
       "      <th>3</th>\n",
       "      <td>0</td>\n",
       "      <td>2</td>\n",
       "      <td>570.22</td>\n",
       "      <td>4958066799829630</td>\n",
       "      <td>5.29</td>\n",
       "      <td>5.29</td>\n",
       "      <td>00-0000388</td>\n",
       "      <td>0.00</td>\n",
       "      <td>0.00</td>\n",
       "      <td>0</td>\n",
       "      <td>1</td>\n",
       "      <td>2</td>\n",
       "    </tr>\n",
       "    <tr>\n",
       "      <th>4</th>\n",
       "      <td>0</td>\n",
       "      <td>2</td>\n",
       "      <td>574.80</td>\n",
       "      <td>4149196095918843</td>\n",
       "      <td>82.63</td>\n",
       "      <td>82.63</td>\n",
       "      <td>80-0005320</td>\n",
       "      <td>0.00</td>\n",
       "      <td>0.00</td>\n",
       "      <td>0</td>\n",
       "      <td>1</td>\n",
       "      <td>2</td>\n",
       "    </tr>\n",
       "  </tbody>\n",
       "</table>\n",
       "</div>"
      ],
      "text/plain": [
       "   step  transactionType  amount         initiator  oldBalInitiator  \\\n",
       "0     0                2  579.16  4018807983755588            29.32   \n",
       "1     0                3   39.03  4610593854752035            39.03   \n",
       "2     0                3   21.78  4840578447365454            21.78   \n",
       "3     0                2  570.22  4958066799829630             5.29   \n",
       "4     0                2  574.80  4149196095918843            82.63   \n",
       "\n",
       "   newBalInitiator         recipient  oldBalRecipient  newBalRecipient  \\\n",
       "0            29.32        30-0000345             0.00             0.00   \n",
       "1             0.00  4944921135715488            55.94            94.98   \n",
       "2             0.00  4305579785620656            58.09            79.88   \n",
       "3             5.29        00-0000388             0.00             0.00   \n",
       "4            82.63        80-0005320             0.00             0.00   \n",
       "\n",
       "   isFraud  initiator_type  recipient_type  \n",
       "0        0               1               2  \n",
       "1        1               1               1  \n",
       "2        1               1               1  \n",
       "3        0               1               2  \n",
       "4        0               1               2  "
      ]
     },
     "execution_count": 8,
     "metadata": {},
     "output_type": "execute_result"
    }
   ],
   "source": [
    "df.head()"
   ]
  },
  {
   "cell_type": "code",
   "execution_count": null,
   "metadata": {
    "execution": {
     "iopub.execute_input": "2025-03-29T18:30:46.029113Z",
     "iopub.status.busy": "2025-03-29T18:30:46.028821Z"
    },
    "trusted": true
   },
   "outputs": [
    {
     "name": "stdout",
     "output_type": "stream",
     "text": [
      "\n",
      "Running GPU-Accelerated SVM on dataset...\n",
      "\n",
      "[2025-03-29 18:30:46.032] [CUML] [warning] SVC with the linear kernel can be much faster using the specialized solver provided by LinearSVC. Consider switching to LinearSVC if tranining takes too long.\n"
     ]
    }
   ],
   "source": [
    "from cuml.svm import SVC\n",
    "# Define SVM parameters\n",
    "svm_kernels = ['linear', 'rbf', 'poly']\n",
    "c_values = [0.1, 1, 10]  # Regularization parameter tuning\n",
    "svm_results = []\n",
    "\n",
    "print(\"\\nRunning GPU-Accelerated SVM on dataset...\\n\")\n",
    "\n",
    "for kernel in svm_kernels:\n",
    "    for C in c_values:\n",
    "        start_time = time.time()\n",
    "\n",
    "        # Train GPU-accelerated SVM\n",
    "        svm_gpu = SVC(kernel=kernel, C=C, probability=False)\n",
    "        svm_gpu.fit(X_train_gpu, y_train_gpu)\n",
    "\n",
    "        # Predict using GPU\n",
    "        y_pred_gpu = svm_gpu.predict(X_test_gpu)\n",
    "\n",
    "        # Compute accuracy on GPU\n",
    "        accuracy = accuracy_score(y_test_gpu, y_pred_gpu)\n",
    "\n",
    "        # Time taken\n",
    "        time_taken = time.time() - start_time\n",
    "\n",
    "        # Store results\n",
    "        svm_results.append((kernel, C, float(accuracy), time_taken))\n",
    "\n",
    "        print(f\"SVM - Kernel: {kernel}, C={C}, Accuracy: {accuracy:.4f}, Time: {time_taken:.2f}s\")\n",
    "\n",
    "# Convert SVM results to cudf DataFrame\n",
    "svm_results_df = cudf.DataFrame(svm_results, columns=['Kernel', 'C', 'Accuracy', 'Time Taken (s)'])\n",
    "\n",
    "# Convert to pandas for display\n",
    "print(\"\\nFinal Results (GPU SVM):\\n\", svm_results_df.to_pandas())\n"
   ]
  },
  {
   "cell_type": "code",
   "execution_count": null,
   "metadata": {
    "trusted": true
   },
   "outputs": [],
   "source": [
    "from cuml.tree import DecisionTreeClassifier\n",
    "import matplotlib.pyplot as plt\n",
    "from sklearn.tree import plot_tree\n",
    "\n",
    "# Define hyperparameters\n",
    "max_depth_values = [3, 5, 10]\n",
    "min_samples_split_values = [2, 5, 10]\n",
    "dt_results = []\n",
    "\n",
    "print(\"\\nRunning GPU-Accelerated Decision Tree on dataset...\\n\")\n",
    "\n",
    "for max_depth in max_depth_values:\n",
    "    for min_samples_split in min_samples_split_values:\n",
    "        start_time = time.time()\n",
    "\n",
    "        # Train GPU-accelerated Decision Tree\n",
    "        dt_gpu = DecisionTreeClassifier(max_depth=max_depth, min_samples_split=min_samples_split)\n",
    "        dt_gpu.fit(X_train_gpu, y_train_gpu)\n",
    "\n",
    "        # Predict using GPU\n",
    "        y_pred_gpu = dt_gpu.predict(X_test_gpu)\n",
    "\n",
    "        # Compute accuracy on GPU\n",
    "        accuracy = accuracy_score(y_test_gpu, y_pred_gpu)\n",
    "\n",
    "        # Time taken\n",
    "        time_taken = time.time() - start_time\n",
    "\n",
    "        # Store results\n",
    "        dt_results.append((max_depth, min_samples_split, float(accuracy), time_taken))\n",
    "\n",
    "        print(f\"DT - Max Depth: {max_depth}, Min Samples Split: {min_samples_split}, Accuracy: {accuracy:.4f}, Time: {time_taken:.2f}s\")\n",
    "\n",
    "# Convert Decision Tree results to cudf DataFrame\n",
    "dt_results_df = cudf.DataFrame(dt_results, columns=['Max Depth', 'Min Samples Split', 'Accuracy', 'Time Taken (s)'])\n",
    "\n",
    "# Convert to pandas for display\n",
    "print(\"\\nFinal Results (GPU Decision Tree):\\n\", dt_results_df.to_pandas())\n",
    "\n",
    "# Visualizing one decision tree (first configuration)\n",
    "dt_sklearn = DecisionTreeClassifier(max_depth=5, min_samples_split=2)  # CPU-based for visualization\n",
    "dt_sklearn.fit(X_train_noisy, y_train_noisy)  # Using original NumPy/Pandas data\n",
    "\n",
    "# Plot tree\n",
    "plt.figure(figsize=(12, 6))\n",
    "plot_tree(dt_sklearn, feature_names=X_train.columns, class_names=[\"Class 0\", \"Class 1\"], filled=True)\n",
    "plt.title(\"Decision Tree Visualization\")\n",
    "plt.show()\n"
   ]
  },
  {
   "cell_type": "code",
   "execution_count": null,
   "metadata": {
    "trusted": true
   },
   "outputs": [],
   "source": [
    "from cuml.linear_model import LogisticRegression\n",
    "import pandas as pd\n",
    "\n",
    "# Define regularization techniques\n",
    "regularization_types = ['l1', 'l2']\n",
    "C_values = [0.01, 0.1, 1, 10]  # Regularization strength\n",
    "\n",
    "logistic_results = []\n",
    "\n",
    "print(\"\\nRunning GPU-Accelerated Logistic Regression on dataset...\\n\")\n",
    "\n",
    "for reg in regularization_types:\n",
    "    for C in C_values:\n",
    "        start_time = time.time()\n",
    "\n",
    "        # Train GPU-accelerated Logistic Regression\n",
    "        log_reg_gpu = LogisticRegression(penalty=reg, C=C, solver='qn')\n",
    "        log_reg_gpu.fit(X_train_gpu, y_train_gpu)\n",
    "\n",
    "        # Predict using GPU\n",
    "        y_pred_gpu = log_reg_gpu.predict(X_test_gpu)\n",
    "\n",
    "        # Compute accuracy on GPU\n",
    "        accuracy = accuracy_score(y_test_gpu, y_pred_gpu)\n",
    "\n",
    "        # Time taken\n",
    "        time_taken = time.time() - start_time\n",
    "\n",
    "        # Store results\n",
    "        logistic_results.append((reg, C, float(accuracy), time_taken))\n",
    "\n",
    "        print(f\"Logistic Regression - Penalty: {reg}, C: {C}, Accuracy: {accuracy:.4f}, Time: {time_taken:.2f}s\")\n",
    "\n",
    "# Convert results to cudf DataFrame\n",
    "logistic_results_df = cudf.DataFrame(logistic_results, columns=['Penalty', 'C', 'Accuracy', 'Time Taken (s)'])\n",
    "\n",
    "# Convert to pandas for display\n",
    "print(\"\\nFinal Results (GPU Logistic Regression):\\n\", logistic_results_df.to_pandas())\n",
    "\n",
    "# Compare against previous classifiers\n",
    "comparison_df = pd.DataFrame({\n",
    "    'Model': ['Logistic Regression (Best)', 'Decision Tree (Best)', 'KNN (Best)'],\n",
    "    'Accuracy': [\n",
    "        logistic_results_df['Accuracy'].max(),\n",
    "        dt_results_df['Accuracy'].max(),\n",
    "        results_df['Accuracy'].max()\n",
    "    ]\n",
    "})\n",
    "\n",
    "print(\"\\nPerformance Comparison:\\n\", comparison_df)\n"
   ]
  },
  {
   "cell_type": "code",
   "execution_count": null,
   "metadata": {
    "trusted": true
   },
   "outputs": [],
   "source": [
    "from cuml.metrics import accuracy_score, precision_score, recall_score, f1_score\n",
    "from sklearn.metrics import classification_report, confusion_matrix\n",
    "import seaborn as sns\n",
    "import matplotlib.pyplot as plt\n",
    "\n",
    "# Models to evaluate\n",
    "models = {\n",
    "    \"Logistic Regression\": log_reg_gpu,\n",
    "    \"Decision Tree\": dt_gpu,\n",
    "    \"KNN\": knn_gpu\n",
    "}\n",
    "\n",
    "evaluation_results = []\n",
    "\n",
    "print(\"\\nModel Evaluation and Comparison...\\n\")\n",
    "\n",
    "for model_name, model in models.items():\n",
    "    start_train_time = time.time()\n",
    "    model.fit(X_train_gpu, y_train_gpu)\n",
    "    train_time = time.time() - start_train_time\n",
    "\n",
    "    start_pred_time = time.time()\n",
    "    y_pred_gpu = model.predict(X_test_gpu)\n",
    "    pred_time = time.time() - start_pred_time\n",
    "\n",
    "    # Compute metrics\n",
    "    accuracy = accuracy_score(y_test_gpu, y_pred_gpu)\n",
    "    precision = precision_score(y_test_gpu, y_pred_gpu, average='weighted')\n",
    "    recall = recall_score(y_test_gpu, y_pred_gpu, average='weighted')\n",
    "    f1 = f1_score(y_test_gpu, y_pred_gpu, average='weighted')\n",
    "\n",
    "    # Confusion Matrix\n",
    "    cm = confusion_matrix(y_test_gpu.to_pandas(), y_pred_gpu.to_pandas())\n",
    "\n",
    "    # Store results\n",
    "    evaluation_results.append((model_name, accuracy, precision, recall, f1, train_time, pred_time))\n",
    "\n",
    "    print(f\"\\nModel: {model_name}\")\n",
    "    print(f\"Accuracy: {accuracy:.4f}, Precision: {precision:.4f}, Recall: {recall:.4f}, F1-score: {f1:.4f}\")\n",
    "    print(f\"Training Time: {train_time:.2f}s, Prediction Time: {pred_time:.2f}s\")\n",
    "\n",
    "    # Print classification report\n",
    "    print(\"\\nClassification Report:\\n\", classification_report(y_test_gpu.to_pandas(), y_pred_gpu.to_pandas()))\n",
    "\n",
    "    # Plot confusion matrix\n",
    "    plt.figure(figsize=(6, 4))\n",
    "    sns.heatmap(cm, annot=True, fmt=\"d\", cmap=\"Blues\")\n",
    "    plt.xlabel(\"Predicted\")\n",
    "    plt.ylabel(\"Actual\")\n",
    "    plt.title(f\"Confusion Matrix - {model_name}\")\n",
    "    plt.show()\n",
    "\n",
    "# Convert results to DataFrame for comparison\n",
    "eval_results_df = pd.DataFrame(evaluation_results, columns=[\n",
    "    \"Model\", \"Accuracy\", \"Precision\", \"Recall\", \"F1-score\", \"Training Time (s)\", \"Prediction Time (s)\"\n",
    "])\n",
    "\n",
    "print(\"\\nFinal Model Evaluation Results:\\n\", eval_results_df)\n"
   ]
  },
  {
   "cell_type": "code",
   "execution_count": null,
   "metadata": {
    "trusted": true
   },
   "outputs": [],
   "source": []
  }
 ],
 "metadata": {
  "kaggle": {
   "accelerator": "nvidiaTeslaT4",
   "dataSources": [
    {
     "datasetId": 6992362,
     "sourceId": 11199314,
     "sourceType": "datasetVersion"
    }
   ],
   "dockerImageVersionId": 30919,
   "isGpuEnabled": true,
   "isInternetEnabled": true,
   "language": "python",
   "sourceType": "notebook"
  },
  "kernelspec": {
   "display_name": "Python 3",
   "language": "python",
   "name": "python3"
  },
  "language_info": {
   "codemirror_mode": {
    "name": "ipython",
    "version": 3
   },
   "file_extension": ".py",
   "mimetype": "text/x-python",
   "name": "python",
   "nbconvert_exporter": "python",
   "pygments_lexer": "ipython3",
   "version": "3.10.12"
  }
 },
 "nbformat": 4,
 "nbformat_minor": 4
}
